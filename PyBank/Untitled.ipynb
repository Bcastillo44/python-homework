{
 "cells": [
  {
   "cell_type": "code",
   "execution_count": 4,
   "metadata": {},
   "outputs": [],
   "source": [
    "from pathlib import Path\n",
    "file = Path('/Users/bcas/GW/gitlab/gwu-hp-arl-fin-pt-06-2020-u-c/01-Lesson-Plans/02-Python/Activities/3/08-Stu_File_IO/Resources/customer_traffic.txt')"
   ]
  },
  {
   "cell_type": "code",
   "execution_count": 5,
   "metadata": {},
   "outputs": [],
   "source": [
    "customer_total = 0\n",
    "day_count = 0"
   ]
  },
  {
   "cell_type": "code",
   "execution_count": 6,
   "metadata": {},
   "outputs": [
    {
     "name": "stdout",
     "output_type": "stream",
     "text": [
      "customer_total: 4945\n",
      "day_count: 100\n",
      "-----------------------\n"
     ]
    }
   ],
   "source": [
    "with open(file, 'r') as file:\n",
    "    for line in file:\n",
    "        number = int(line)\n",
    "        customer_total += number\n",
    "        day_count += 1\n",
    "\n",
    "        \n",
    "print(f\"customer_total: {customer_total}\")\n",
    "print(f\"day_count: {day_count}\")\n",
    "print(\"-----------------------\")\n"
   ]
  },
  {
   "cell_type": "code",
   "execution_count": 7,
   "metadata": {},
   "outputs": [
    {
     "name": "stdout",
     "output_type": "stream",
     "text": [
      "daily_average: 49.45\n"
     ]
    }
   ],
   "source": [
    "daily_average = customer_total / day_count\n",
    "print(f\"daily_average: {daily_average}\")\n",
    "\n"
   ]
  }
 ],
 "metadata": {
  "kernelspec": {
   "display_name": "Python 3",
   "language": "python",
   "name": "python3"
  },
  "language_info": {
   "codemirror_mode": {
    "name": "ipython",
    "version": 3
   },
   "file_extension": ".py",
   "mimetype": "text/x-python",
   "name": "python",
   "nbconvert_exporter": "python",
   "pygments_lexer": "ipython3",
   "version": "3.7.6"
  }
 },
 "nbformat": 4,
 "nbformat_minor": 4
}
